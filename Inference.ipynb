{
 "cells": [
  {
   "cell_type": "code",
   "execution_count": 1,
   "metadata": {},
   "outputs": [
    {
     "name": "stderr",
     "output_type": "stream",
     "text": [
      "Using TensorFlow backend.\n"
     ]
    }
   ],
   "source": [
    "import numpy as np\n",
    "import pandas as pd\n",
    "import pydicom\n",
    "%matplotlib inline\n",
    "import matplotlib.pyplot as plt\n",
    "import keras \n",
    "\n",
    "import numpy as np # linear algebra\n",
    "import pandas as pd # data processing, CSV file I/O (e.g. pd.read_csv)\n",
    "import os\n",
    "from glob import glob\n",
    "%matplotlib inline\n",
    "import matplotlib.pyplot as plt\n",
    "from itertools import chain\n",
    "from random import sample\n",
    "import sklearn.model_selection as skl\n",
    "\n",
    "from tensorflow.keras.preprocessing.image import ImageDataGenerator\n",
    "from tensorflow.keras.applications.vgg16 import VGG16\n",
    "from tensorflow.keras.models import Sequential, Model\n",
    "from tensorflow.keras.optimizers import Adam\n",
    "from tensorflow.keras.callbacks import ModelCheckpoint, LearningRateScheduler, EarlyStopping, ReduceLROnPlateau\n",
    "from tensorflow.keras.layers import GlobalAveragePooling2D, Dense, Dropout, Flatten, Conv2D, MaxPooling2D, BatchNormalization\n",
    "\n",
    "from sklearn.metrics import roc_curve, auc, precision_recall_curve, average_precision_score, plot_precision_recall_curve, f1_score, confusion_matrix\n",
    "from skimage.transform import resize\n",
    "##Import any other stats/DL/ML packages you may need here. E.g. Keras, scikit-learn, etc."
   ]
  },
  {
   "cell_type": "code",
   "execution_count": 2,
   "metadata": {},
   "outputs": [],
   "source": [
    "def load_pretrained_model():\n",
    "    \n",
    "    vgg_model = VGG16(include_top=False, weights='imagenet')\n",
    "    return vgg_model\n"
   ]
  },
  {
   "cell_type": "code",
   "execution_count": 3,
   "metadata": {},
   "outputs": [],
   "source": [
    "def build_my_model_v2():\n",
    "    \n",
    "    my_model_v2 = Sequential()\n",
    "    \n",
    "    my_model_v2.add(vgg_model)\n",
    "    \n",
    "    my_model_v2.add(GlobalAveragePooling2D())\n",
    "    \n",
    "    my_model_v2.add(Dense(256, activation='relu'))\n",
    "    \n",
    "    my_model_v2.add(BatchNormalization())\n",
    "    \n",
    "    my_model_v2.add(Dropout(0.5))\n",
    "    \n",
    "    my_model_v2.add(Dense(64, activation='relu'))\n",
    "    \n",
    "    my_model_v2.add(BatchNormalization())\n",
    "    \n",
    "    my_model_v2.add(Dropout(0.5))\n",
    "    \n",
    "    my_model_v2.add(Dense(32, activation='relu'))\n",
    "    \n",
    "    my_model_v2.add(BatchNormalization())\n",
    "    \n",
    "    my_model_v2.add(Dropout(0.5))\n",
    "    \n",
    "    my_model_v2.add(Dense(1, activation='sigmoid'))\n",
    "    \n",
    "    return my_model_v2"
   ]
  },
  {
   "cell_type": "code",
   "execution_count": 4,
   "metadata": {},
   "outputs": [
    {
     "name": "stdout",
     "output_type": "stream",
     "text": [
      "Downloading data from https://github.com/fchollet/deep-learning-models/releases/download/v0.1/vgg16_weights_tf_dim_ordering_tf_kernels_notop.h5\n",
      "58892288/58889256 [==============================] - 1s 0us/step\n",
      "Model: \"vgg16\"\n",
      "_________________________________________________________________\n",
      "Layer (type)                 Output Shape              Param #   \n",
      "=================================================================\n",
      "input_1 (InputLayer)         [(None, None, None, 3)]   0         \n",
      "_________________________________________________________________\n",
      "block1_conv1 (Conv2D)        (None, None, None, 64)    1792      \n",
      "_________________________________________________________________\n",
      "block1_conv2 (Conv2D)        (None, None, None, 64)    36928     \n",
      "_________________________________________________________________\n",
      "block1_pool (MaxPooling2D)   (None, None, None, 64)    0         \n",
      "_________________________________________________________________\n",
      "block2_conv1 (Conv2D)        (None, None, None, 128)   73856     \n",
      "_________________________________________________________________\n",
      "block2_conv2 (Conv2D)        (None, None, None, 128)   147584    \n",
      "_________________________________________________________________\n",
      "block2_pool (MaxPooling2D)   (None, None, None, 128)   0         \n",
      "_________________________________________________________________\n",
      "block3_conv1 (Conv2D)        (None, None, None, 256)   295168    \n",
      "_________________________________________________________________\n",
      "block3_conv2 (Conv2D)        (None, None, None, 256)   590080    \n",
      "_________________________________________________________________\n",
      "block3_conv3 (Conv2D)        (None, None, None, 256)   590080    \n",
      "_________________________________________________________________\n",
      "block3_pool (MaxPooling2D)   (None, None, None, 256)   0         \n",
      "_________________________________________________________________\n",
      "block4_conv1 (Conv2D)        (None, None, None, 512)   1180160   \n",
      "_________________________________________________________________\n",
      "block4_conv2 (Conv2D)        (None, None, None, 512)   2359808   \n",
      "_________________________________________________________________\n",
      "block4_conv3 (Conv2D)        (None, None, None, 512)   2359808   \n",
      "_________________________________________________________________\n",
      "block4_pool (MaxPooling2D)   (None, None, None, 512)   0         \n",
      "_________________________________________________________________\n",
      "block5_conv1 (Conv2D)        (None, None, None, 512)   2359808   \n",
      "_________________________________________________________________\n",
      "block5_conv2 (Conv2D)        (None, None, None, 512)   2359808   \n",
      "_________________________________________________________________\n",
      "block5_conv3 (Conv2D)        (None, None, None, 512)   2359808   \n",
      "_________________________________________________________________\n",
      "block5_pool (MaxPooling2D)   (None, None, None, 512)   0         \n",
      "=================================================================\n",
      "Total params: 14,714,688\n",
      "Trainable params: 14,714,688\n",
      "Non-trainable params: 0\n",
      "_________________________________________________________________\n"
     ]
    }
   ],
   "source": [
    "vgg_model = load_pretrained_model()\n",
    "vgg_model.summary()"
   ]
  },
  {
   "cell_type": "code",
   "execution_count": 5,
   "metadata": {},
   "outputs": [],
   "source": [
    "for layer in vgg_model.layers[0:17]:\n",
    "    layer.trainable = False"
   ]
  },
  {
   "cell_type": "code",
   "execution_count": 6,
   "metadata": {},
   "outputs": [
    {
     "name": "stdout",
     "output_type": "stream",
     "text": [
      "input_1 False\n",
      "block1_conv1 False\n",
      "block1_conv2 False\n",
      "block1_pool False\n",
      "block2_conv1 False\n",
      "block2_conv2 False\n",
      "block2_pool False\n",
      "block3_conv1 False\n",
      "block3_conv2 False\n",
      "block3_conv3 False\n",
      "block3_pool False\n",
      "block4_conv1 False\n",
      "block4_conv2 False\n",
      "block4_conv3 False\n",
      "block4_pool False\n",
      "block5_conv1 False\n",
      "block5_conv2 False\n",
      "block5_conv3 True\n",
      "block5_pool True\n"
     ]
    }
   ],
   "source": [
    "for layer in vgg_model.layers:\n",
    "    print(layer.name, layer.trainable)"
   ]
  },
  {
   "cell_type": "code",
   "execution_count": 7,
   "metadata": {},
   "outputs": [],
   "source": [
    "def check_dicom(filename): \n",
    "        \n",
    "    print('Loading image file {} ......'.format(filename))\n",
    "    ds = pydicom.dcmread(filename)   \n",
    "    \n",
    "    if ((ds.BodyPartExamined == 'CHEST') and (ds.PatientPosition in ['AP','PA']) and (ds.Modality in ['DX','CT'])):\n",
    "        img = ds.pixel_array\n",
    "        study_desc = ds.StudyDescription\n",
    "        bodypartexamined = ds.BodyPartExamined\n",
    "        patpos = ds.PatientPosition\n",
    "        mod = ds.Modality\n",
    "        return img, study_desc,bodypartexamined,patpos,mod\n",
    "    \n",
    "    study_desc = ds.StudyDescription\n",
    "    bodypartexamined = ds.BodyPartExamined\n",
    "    patpos = ds.PatientPosition\n",
    "    mod = ds.Modality\n",
    "    print(\"Image is not eligible for further processing since the Patient Position or Body Part Examined or Modality values are not qualified\")\n",
    "    print(\"Study Description:\", study_desc)\n",
    "    print(\"Body Part Examined\", bodypartexamined)\n",
    "    print(\"Patient Position\", patpos)\n",
    "    print(\"Modality\", mod)\n",
    "    print(\"\\n\")\n",
    "    return None, study_desc,bodypartexamined,patpos,mod\n"
   ]
  },
  {
   "cell_type": "code",
   "execution_count": 8,
   "metadata": {},
   "outputs": [],
   "source": [
    "def preprocess_image(img, img_mean, img_std, img_size): \n",
    "    \n",
    "    img = img/ 255.0\n",
    "    process_img = (img - img_mean / img_std)\n",
    "    img_resize = resize(process_img, (img_size[1], img_size[2]))\n",
    "    return np.resize(process_img, img_size)"
   ]
  },
  {
   "cell_type": "code",
   "execution_count": 9,
   "metadata": {},
   "outputs": [],
   "source": [
    "def load_model(model_path):\n",
    "    # todo\n",
    "    vgg_model = build_my_model_v2()\n",
    "#     vgg_model.load_weights(model_path)\n",
    "    \n",
    "    return vgg_model"
   ]
  },
  {
   "cell_type": "code",
   "execution_count": 10,
   "metadata": {},
   "outputs": [],
   "source": [
    "def predict_image(model, img, thresh): \n",
    "    \n",
    "    predict_model = model(img)\n",
    "    \n",
    "    if(predict_model > thresh):\n",
    "        predict_model = 'Tested Pneumonia Positive'\n",
    "    else:\n",
    "        predict_model = \"Tested Pneumonia Negative\"\n",
    "    return predict_model "
   ]
  },
  {
   "cell_type": "code",
   "execution_count": 11,
   "metadata": {},
   "outputs": [
    {
     "name": "stdout",
     "output_type": "stream",
     "text": [
      "Loading image file test5.dcm ......\n",
      "WARNING:tensorflow:Layer block1_conv1 is casting an input tensor from dtype float64 to the layer's dtype of float32, which is new behavior in TensorFlow 2.  The layer has dtype float32 because it's dtype defaults to floatx.\n",
      "\n",
      "If you intended to run this layer in float32, you can safely ignore this warning. If in doubt, this warning is likely only an issue if you are porting a TensorFlow 1.X model to TensorFlow 2.\n",
      "\n",
      "To change all layers to have dtype float64 by default, call `tf.keras.backend.set_floatx('float64')`. To change just this layer, pass dtype='float64' to the layer constructor. If you are the author of this layer, you can disable autocasting by passing autocast=False to the base Layer constructor.\n",
      "\n",
      "Tested Pneumonia Negative\n",
      "Study Description: No Finding\n",
      "Body Part Examined CHEST\n",
      "Patient Position PA\n",
      "Modality CT\n",
      "\n",
      "\n",
      "Loading image file test4.dcm ......\n",
      "Image is not eligible for further processing since the Patient Position or Body Part Examined or Modality values are not qualified\n",
      "Study Description: No Finding\n",
      "Body Part Examined RIBCAGE\n",
      "Patient Position PA\n",
      "Modality DX\n",
      "\n",
      "\n",
      "Loading image file test6.dcm ......\n",
      "Image is not eligible for further processing since the Patient Position or Body Part Examined or Modality values are not qualified\n",
      "Study Description: No Finding\n",
      "Body Part Examined CHEST\n",
      "Patient Position XX\n",
      "Modality DX\n",
      "\n",
      "\n",
      "Loading image file test2.dcm ......\n",
      "Tested Pneumonia Negative\n",
      "Study Description: Cardiomegaly\n",
      "Body Part Examined CHEST\n",
      "Patient Position AP\n",
      "Modality DX\n",
      "\n",
      "\n",
      "Loading image file test3.dcm ......\n",
      "Tested Pneumonia Negative\n",
      "Study Description: Effusion\n",
      "Body Part Examined CHEST\n",
      "Patient Position AP\n",
      "Modality DX\n",
      "\n",
      "\n",
      "Loading image file test1.dcm ......\n",
      "Tested Pneumonia Negative\n",
      "Study Description: No Finding\n",
      "Body Part Examined CHEST\n",
      "Patient Position PA\n",
      "Modality DX\n",
      "\n",
      "\n"
     ]
    }
   ],
   "source": [
    "testdicoms = glob(\"*.dcm\")\n",
    "\n",
    "model_path = r'xray_class_my_model.h5'\n",
    "weight_path = \"{}_my_model.h5\".format('xray_class')\n",
    "# my_model_v2.load_weights(weight_path)\n",
    "\n",
    "\n",
    "IMG_SIZE=(1,224,224,3)\n",
    "img_std = 1\n",
    "img_mean = 0\n",
    "train_model = load_model(model_path)\n",
    "thresh = 0.57\n",
    "\n",
    "# use the .dcm files to test your prediction\n",
    "for i in testdicoms:\n",
    "    \n",
    "    img = np.array([])\n",
    "    img, study_desc,bodypartexamined,patpos,mod = check_dicom(i)\n",
    "    \n",
    "    if img is None:\n",
    "        continue\n",
    "    \n",
    "    image_to_process = preprocess_image(img, img_mean, img_std, IMG_SIZE)\n",
    "    predict_pneumonia = predict_image(train_model,image_to_process,thresh)\n",
    "    print(predict_pneumonia)\n",
    "    print(\"Study Description:\", study_desc)\n",
    "    print(\"Body Part Examined\", bodypartexamined)\n",
    "    print(\"Patient Position\", patpos)\n",
    "    print(\"Modality\", mod)\n",
    "    print(\"\\n\")\n",
    "    "
   ]
  },
  {
   "cell_type": "code",
   "execution_count": null,
   "metadata": {},
   "outputs": [],
   "source": []
  },
  {
   "cell_type": "code",
   "execution_count": null,
   "metadata": {},
   "outputs": [],
   "source": []
  }
 ],
 "metadata": {
  "kernelspec": {
   "display_name": "Python 3",
   "language": "python",
   "name": "python3"
  },
  "language_info": {
   "codemirror_mode": {
    "name": "ipython",
    "version": 3
   },
   "file_extension": ".py",
   "mimetype": "text/x-python",
   "name": "python",
   "nbconvert_exporter": "python",
   "pygments_lexer": "ipython3",
   "version": "3.7.6"
  }
 },
 "nbformat": 4,
 "nbformat_minor": 2
}
